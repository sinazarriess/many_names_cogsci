{
 "cells": [
  {
   "cell_type": "code",
   "execution_count": 1,
   "metadata": {},
   "outputs": [],
   "source": [
    "\"\"\"\n",
    "@author: Sina Zarrieß\n",
    "\"\"\"\n",
    "\n",
    "import pandas as pd\n",
    "import glob\n",
    "import os\n",
    "import json\n",
    "import sys\n",
    "from collections import Counter\n",
    "import numpy as np\n",
    "import matplotlib.pyplot as plt\n",
    "import numpy as np"
   ]
  },
  {
   "cell_type": "code",
   "execution_count": 2,
   "metadata": {},
   "outputs": [],
   "source": [
    "path = \"../many_names_collection/proc_data_phase0/useful_dataframes/all_responses_round0-3_analyzed.csv\""
   ]
  },
  {
   "cell_type": "code",
   "execution_count": 127,
   "metadata": {},
   "outputs": [],
   "source": [
    "resdf = pd.read_csv(path,sep=\"\\t\")\n",
    "resdf['vg_is_max'] = resdf.eval('vg_is_max')\n",
    "resdf['n_anno'] = resdf.eval('n_anno')\n",
    "resdf['percent_agree'] = resdf.eval('percent_agree')\n",
    "\n"
   ]
  },
  {
   "cell_type": "code",
   "execution_count": 128,
   "metadata": {},
   "outputs": [],
   "source": [
    "#resdf['all_responses'] = resdf['all_responses'].apply(lambda x: Counter(eval(x)))\n",
    "resdf['spellchecked'] = resdf['spellchecked'].apply(lambda x: Counter(eval(x)))"
   ]
  },
  {
   "cell_type": "code",
   "execution_count": null,
   "metadata": {},
   "outputs": [],
   "source": []
  },
  {
   "cell_type": "code",
   "execution_count": 129,
   "metadata": {},
   "outputs": [],
   "source": [
    "resdf['mn_obj_name'] = resdf['spellchecked'].apply(lambda x: x.most_common(1)[0][0])"
   ]
  },
  {
   "cell_type": "code",
   "execution_count": 130,
   "metadata": {},
   "outputs": [
    {
     "data": {
      "text/html": [
       "<div>\n",
       "<style scoped>\n",
       "    .dataframe tbody tr th:only-of-type {\n",
       "        vertical-align: middle;\n",
       "    }\n",
       "\n",
       "    .dataframe tbody tr th {\n",
       "        vertical-align: top;\n",
       "    }\n",
       "\n",
       "    .dataframe thead th {\n",
       "        text-align: right;\n",
       "    }\n",
       "</style>\n",
       "<table border=\"1\" class=\"dataframe\">\n",
       "  <thead>\n",
       "    <tr style=\"text-align: right;\">\n",
       "      <th></th>\n",
       "      <th>Unnamed: 0</th>\n",
       "      <th>Unnamed: 0.1</th>\n",
       "      <th>vg_img_id</th>\n",
       "      <th>cat</th>\n",
       "      <th>synset</th>\n",
       "      <th>vg_obj_name</th>\n",
       "      <th>responses_r0</th>\n",
       "      <th>opt-outs</th>\n",
       "      <th>vg_domain</th>\n",
       "      <th>top_response_domain_r0</th>\n",
       "      <th>...</th>\n",
       "      <th>spellchecked</th>\n",
       "      <th>spellchecked_min3</th>\n",
       "      <th>vg_is_max</th>\n",
       "      <th>vg_mean</th>\n",
       "      <th>vg_overlap</th>\n",
       "      <th>n_anno</th>\n",
       "      <th>n_types</th>\n",
       "      <th>snodgrass</th>\n",
       "      <th>percent_agree</th>\n",
       "      <th>mn_obj_name</th>\n",
       "    </tr>\n",
       "  </thead>\n",
       "  <tbody>\n",
       "    <tr>\n",
       "      <th>0</th>\n",
       "      <td>0</td>\n",
       "      <td>0</td>\n",
       "      <td>2357077</td>\n",
       "      <td>person</td>\n",
       "      <td>athlete.n.01</td>\n",
       "      <td>batter</td>\n",
       "      <td>{'man': 4, 'batter': 2, 'baseball player': 1, ...</td>\n",
       "      <td>{}</td>\n",
       "      <td>people</td>\n",
       "      <td>people</td>\n",
       "      <td>...</td>\n",
       "      <td>{'man': 11, 'batter': 8, 'player': 5, 'person'...</td>\n",
       "      <td>Counter({'man': 11, 'batter': 8, 'player': 5, ...</td>\n",
       "      <td>0</td>\n",
       "      <td>0.250000</td>\n",
       "      <td>8</td>\n",
       "      <td>35</td>\n",
       "      <td>9</td>\n",
       "      <td>2.681758</td>\n",
       "      <td>0.314286</td>\n",
       "      <td>man</td>\n",
       "    </tr>\n",
       "    <tr>\n",
       "      <th>1</th>\n",
       "      <td>1</td>\n",
       "      <td>1</td>\n",
       "      <td>2378759</td>\n",
       "      <td>article of clothing</td>\n",
       "      <td>overgarment.n.01</td>\n",
       "      <td>jacket</td>\n",
       "      <td>{'jacket': 3, 'sweatshirt': 2, 'man': 2, 'hood...</td>\n",
       "      <td>{}</td>\n",
       "      <td>clothing</td>\n",
       "      <td>clothing</td>\n",
       "      <td>...</td>\n",
       "      <td>{'jacket': 14, 'man': 11, 'sweatshirt': 4, 'ho...</td>\n",
       "      <td>Counter({'jacket': 14, 'man': 11, 'sweatshirt'...</td>\n",
       "      <td>1</td>\n",
       "      <td>0.400000</td>\n",
       "      <td>14</td>\n",
       "      <td>36</td>\n",
       "      <td>6</td>\n",
       "      <td>2.132238</td>\n",
       "      <td>0.388889</td>\n",
       "      <td>jacket</td>\n",
       "    </tr>\n",
       "    <tr>\n",
       "      <th>2</th>\n",
       "      <td>2</td>\n",
       "      <td>2</td>\n",
       "      <td>2319953</td>\n",
       "      <td>animal</td>\n",
       "      <td>ungulate.n.01</td>\n",
       "      <td>giraffe</td>\n",
       "      <td>{'giraffe': 7}</td>\n",
       "      <td>{'#bbox': 2}</td>\n",
       "      <td>animals_plants</td>\n",
       "      <td>animals_plants</td>\n",
       "      <td>...</td>\n",
       "      <td>{'giraffe': 32, 'woman': 1}</td>\n",
       "      <td>Counter({'giraffe': 32})</td>\n",
       "      <td>1</td>\n",
       "      <td>1.000000</td>\n",
       "      <td>32</td>\n",
       "      <td>33</td>\n",
       "      <td>2</td>\n",
       "      <td>0.195909</td>\n",
       "      <td>0.969697</td>\n",
       "      <td>giraffe</td>\n",
       "    </tr>\n",
       "    <tr>\n",
       "      <th>3</th>\n",
       "      <td>3</td>\n",
       "      <td>3</td>\n",
       "      <td>2361401</td>\n",
       "      <td>animal</td>\n",
       "      <td>ungulate.n.01</td>\n",
       "      <td>giraffe</td>\n",
       "      <td>{'giraffe': 9}</td>\n",
       "      <td>{}</td>\n",
       "      <td>animals_plants</td>\n",
       "      <td>animals_plants</td>\n",
       "      <td>...</td>\n",
       "      <td>{'giraffe': 36}</td>\n",
       "      <td>Counter({'giraffe': 36})</td>\n",
       "      <td>1</td>\n",
       "      <td>1.000000</td>\n",
       "      <td>36</td>\n",
       "      <td>36</td>\n",
       "      <td>1</td>\n",
       "      <td>0.000000</td>\n",
       "      <td>1.000000</td>\n",
       "      <td>giraffe</td>\n",
       "    </tr>\n",
       "    <tr>\n",
       "      <th>4</th>\n",
       "      <td>4</td>\n",
       "      <td>4</td>\n",
       "      <td>2401994</td>\n",
       "      <td>food, nutrient</td>\n",
       "      <td>dish.n.02</td>\n",
       "      <td>sandwich</td>\n",
       "      <td>{'sandwich': 6, 'food': 2, 'hotdog': 1}</td>\n",
       "      <td>{}</td>\n",
       "      <td>food</td>\n",
       "      <td>food</td>\n",
       "      <td>...</td>\n",
       "      <td>{'sandwich': 26, 'food': 7, 'hotdog': 1, 'cake...</td>\n",
       "      <td>Counter({'sandwich': 26, 'food': 7})</td>\n",
       "      <td>1</td>\n",
       "      <td>0.787879</td>\n",
       "      <td>26</td>\n",
       "      <td>36</td>\n",
       "      <td>5</td>\n",
       "      <td>1.229288</td>\n",
       "      <td>0.722222</td>\n",
       "      <td>sandwich</td>\n",
       "    </tr>\n",
       "  </tbody>\n",
       "</table>\n",
       "<p>5 rows × 36 columns</p>\n",
       "</div>"
      ],
      "text/plain": [
       "   Unnamed: 0  Unnamed: 0.1  vg_img_id                  cat            synset  \\\n",
       "0           0             0    2357077               person      athlete.n.01   \n",
       "1           1             1    2378759  article of clothing  overgarment.n.01   \n",
       "2           2             2    2319953               animal     ungulate.n.01   \n",
       "3           3             3    2361401               animal     ungulate.n.01   \n",
       "4           4             4    2401994       food, nutrient         dish.n.02   \n",
       "\n",
       "  vg_obj_name                                       responses_r0  \\\n",
       "0      batter  {'man': 4, 'batter': 2, 'baseball player': 1, ...   \n",
       "1      jacket  {'jacket': 3, 'sweatshirt': 2, 'man': 2, 'hood...   \n",
       "2     giraffe                                     {'giraffe': 7}   \n",
       "3     giraffe                                     {'giraffe': 9}   \n",
       "4    sandwich            {'sandwich': 6, 'food': 2, 'hotdog': 1}   \n",
       "\n",
       "       opt-outs       vg_domain top_response_domain_r0  ...  \\\n",
       "0            {}          people                 people  ...   \n",
       "1            {}        clothing               clothing  ...   \n",
       "2  {'#bbox': 2}  animals_plants         animals_plants  ...   \n",
       "3            {}  animals_plants         animals_plants  ...   \n",
       "4            {}            food                   food  ...   \n",
       "\n",
       "                                        spellchecked  \\\n",
       "0  {'man': 11, 'batter': 8, 'player': 5, 'person'...   \n",
       "1  {'jacket': 14, 'man': 11, 'sweatshirt': 4, 'ho...   \n",
       "2                        {'giraffe': 32, 'woman': 1}   \n",
       "3                                    {'giraffe': 36}   \n",
       "4  {'sandwich': 26, 'food': 7, 'hotdog': 1, 'cake...   \n",
       "\n",
       "                                   spellchecked_min3 vg_is_max   vg_mean  \\\n",
       "0  Counter({'man': 11, 'batter': 8, 'player': 5, ...         0  0.250000   \n",
       "1  Counter({'jacket': 14, 'man': 11, 'sweatshirt'...         1  0.400000   \n",
       "2                           Counter({'giraffe': 32})         1  1.000000   \n",
       "3                           Counter({'giraffe': 36})         1  1.000000   \n",
       "4               Counter({'sandwich': 26, 'food': 7})         1  0.787879   \n",
       "\n",
       "  vg_overlap n_anno n_types snodgrass percent_agree mn_obj_name  \n",
       "0          8     35       9  2.681758      0.314286         man  \n",
       "1         14     36       6  2.132238      0.388889      jacket  \n",
       "2         32     33       2  0.195909      0.969697     giraffe  \n",
       "3         36     36       1  0.000000      1.000000     giraffe  \n",
       "4         26     36       5  1.229288      0.722222    sandwich  \n",
       "\n",
       "[5 rows x 36 columns]"
      ]
     },
     "execution_count": 130,
     "metadata": {},
     "output_type": "execute_result"
    }
   ],
   "source": [
    "resdf.head()"
   ]
  },
  {
   "cell_type": "code",
   "execution_count": 132,
   "metadata": {},
   "outputs": [],
   "source": [
    "# agree_t : agreement threshold\n",
    "# anno_t : threshold for number of annotations\n",
    "def get_n_names(resdf, agree_t, anno_t, vg_is_max=False):\n",
    "    print(\"\\n\\nFor images with \")\n",
    "    print(\"- an agreement threshold of\", agree_t)\n",
    "    print(\"- %d annotations per minimum\"%anno_t)\n",
    "    \n",
    "    q = 'percent_agree >= %.2f & n_anno > %d'%(agree_t,anno_t)\n",
    "    if vg_is_max:\n",
    "        q += ' & vg_is_max == 1'\n",
    "    perfectdf = resdf.query(q)\n",
    "    names = Counter(list(perfectdf['mn_obj_name']))\n",
    "    synsets = Counter(list(perfectdf['synset']))\n",
    "    print(\"... there is high agreement for: \")\n",
    "    print(\" - %d instances\"%len(perfectdf))\n",
    "    print(\" - %d different names (types)\"%len(names))\n",
    "    print(\" - %d different synsets \"%len(synsets))\n",
    "    \n",
    "    print(names.most_common(10))\n",
    "    print(names.most_common()[-10:])\n",
    "    "
   ]
  },
  {
   "cell_type": "code",
   "execution_count": 133,
   "metadata": {},
   "outputs": [
    {
     "name": "stdout",
     "output_type": "stream",
     "text": [
      "\n",
      "\n",
      "For images with \n",
      "- an agreement threshold of 1.0\n",
      "- 33 annotations per minimum\n",
      "... there is high agreement for: \n",
      " - 1329 instances\n",
      " - 33 different names (types)\n",
      " - 22 different synsets \n",
      "[('train', 251), ('giraffe', 208), ('cat', 176), ('horse', 145), ('zebra', 118), ('dog', 118), ('bed', 59), ('cake', 53), ('cow', 34), ('pizza', 28)]\n",
      "[('spoon', 1), ('fork', 1), ('curtain', 1), ('bowl', 1), ('tent', 1), ('kite', 1), ('elephant', 1), ('table', 1), ('hat', 1), ('clock', 1)]\n"
     ]
    }
   ],
   "source": [
    "get_n_names(resdf,1.0,33)"
   ]
  },
  {
   "cell_type": "code",
   "execution_count": 134,
   "metadata": {},
   "outputs": [
    {
     "name": "stdout",
     "output_type": "stream",
     "text": [
      "\n",
      "\n",
      "For images with \n",
      "- an agreement threshold of 1.0\n",
      "- 33 annotations per minimum\n",
      "... there is high agreement for: \n",
      " - 1294 instances\n",
      " - 29 different names (types)\n",
      " - 20 different synsets \n",
      "[('train', 231), ('giraffe', 208), ('cat', 176), ('horse', 143), ('zebra', 116), ('dog', 115), ('bed', 59), ('cake', 53), ('cow', 33), ('pizza', 27)]\n",
      "[('car', 5), ('shirt', 2), ('donut', 2), ('vase', 2), ('spoon', 1), ('fork', 1), ('bowl', 1), ('tent', 1), ('table', 1), ('hat', 1)]\n"
     ]
    }
   ],
   "source": [
    "get_n_names(resdf,1.0,33, vg_is_max=True)"
   ]
  },
  {
   "cell_type": "code",
   "execution_count": 135,
   "metadata": {},
   "outputs": [
    {
     "name": "stdout",
     "output_type": "stream",
     "text": [
      "\n",
      "\n",
      "For images with \n",
      "- an agreement threshold of 0.9\n",
      "- 33 annotations per minimum\n",
      "... there is high agreement for: \n",
      " - 4988 instances\n",
      " - 69 different names (types)\n",
      " - 38 different synsets \n",
      "[('train', 805), ('giraffe', 505), ('horse', 465), ('cat', 406), ('bed', 399), ('dog', 351), ('pizza', 250), ('zebra', 245), ('bench', 174), ('cake', 173)]\n",
      "[('butterfly', 1), ('pancake', 1), ('cup', 1), ('kite', 1), ('duck', 1), ('elephant', 1), ('castle', 1), ('mirror', 1), ('window', 1), ('clock', 1)]\n"
     ]
    }
   ],
   "source": [
    "get_n_names(resdf,0.9,33)"
   ]
  },
  {
   "cell_type": "code",
   "execution_count": 136,
   "metadata": {},
   "outputs": [
    {
     "name": "stdout",
     "output_type": "stream",
     "text": [
      "\n",
      "\n",
      "For images with \n",
      "- an agreement threshold of 0.9\n",
      "- 33 annotations per minimum\n",
      "... there is high agreement for: \n",
      " - 4773 instances\n",
      " - 58 different names (types)\n",
      " - 36 different synsets \n",
      "[('train', 724), ('giraffe', 504), ('horse', 461), ('cat', 405), ('bed', 394), ('dog', 341), ('zebra', 243), ('pizza', 227), ('bench', 174), ('cake', 170)]\n",
      "[('salad', 2), ('soup', 2), ('grill', 2), ('dugout', 1), ('cookie', 1), ('butterfly', 1), ('pancake', 1), ('cup', 1), ('duck', 1), ('castle', 1)]\n"
     ]
    }
   ],
   "source": [
    "get_n_names(resdf,0.9,33,vg_is_max= True)"
   ]
  },
  {
   "cell_type": "code",
   "execution_count": 137,
   "metadata": {},
   "outputs": [
    {
     "name": "stdout",
     "output_type": "stream",
     "text": [
      "\n",
      "\n",
      "For images with \n",
      "- an agreement threshold of 0.8\n",
      "- 30 annotations per minimum\n",
      "... there is high agreement for: \n",
      " - 10013 instances\n",
      " - 112 different names (types)\n",
      " - 49 different synsets \n",
      "[('train', 1023), ('giraffe', 818), ('horse', 761), ('bed', 707), ('cat', 683), ('dog', 617), ('bench', 488), ('pizza', 469), ('zebra', 396), ('shirt', 304)]\n",
      "[('tree', 1), ('ramp', 1), ('fruit', 1), ('hose', 1), ('monkey', 1), ('castle', 1), ('stroller', 1), ('clock', 1), ('tomato', 1), ('keyboard', 1)]\n"
     ]
    }
   ],
   "source": [
    "get_n_names(resdf,0.8,30)"
   ]
  },
  {
   "cell_type": "code",
   "execution_count": null,
   "metadata": {},
   "outputs": [],
   "source": []
  },
  {
   "cell_type": "code",
   "execution_count": 138,
   "metadata": {},
   "outputs": [
    {
     "name": "stdout",
     "output_type": "stream",
     "text": [
      "\n",
      "\n",
      "For images with \n",
      "- an agreement threshold of 0.8\n",
      "- 30 annotations per minimum\n",
      "... there is high agreement for: \n",
      " - 9261 instances\n",
      " - 83 different names (types)\n",
      " - 42 different synsets \n",
      "[('train', 887), ('giraffe', 816), ('horse', 753), ('bed', 698), ('cat', 681), ('dog', 589), ('bench', 487), ('pizza', 395), ('zebra', 393), ('shirt', 284)]\n",
      "[('bucket', 1), ('wheelchair', 1), ('pancake', 1), ('pickle', 1), ('dolphin', 1), ('garage', 1), ('hose', 1), ('building', 1), ('castle', 1), ('tomato', 1)]\n"
     ]
    }
   ],
   "source": [
    "get_n_names(resdf,0.8,30,vg_is_max=True)"
   ]
  },
  {
   "cell_type": "code",
   "execution_count": 139,
   "metadata": {},
   "outputs": [
    {
     "name": "stdout",
     "output_type": "stream",
     "text": [
      "\n",
      "\n",
      "For images with \n",
      "- an agreement threshold of 0.7\n",
      "- 30 annotations per minimum\n",
      "... there is high agreement for: \n",
      " - 12755 instances\n",
      " - 142 different names (types)\n",
      " - 51 different synsets \n",
      "[('train', 1079), ('giraffe', 819), ('bed', 794), ('horse', 774), ('cat', 701), ('dog', 630), ('bench', 604), ('pizza', 551), ('shirt', 550), ('woman', 438)]\n",
      "[('sand', 1), ('cheetah', 1), ('bun', 1), ('stroller', 1), ('rose', 1), ('meat', 1), ('tomato', 1), ('flamingo', 1), ('keyboard', 1), ('aquarium', 1)]\n"
     ]
    }
   ],
   "source": [
    "get_n_names(resdf,0.7,30)"
   ]
  },
  {
   "cell_type": "code",
   "execution_count": 140,
   "metadata": {},
   "outputs": [
    {
     "name": "stdout",
     "output_type": "stream",
     "text": [
      "\n",
      "\n",
      "For images with \n",
      "- an agreement threshold of 0.6\n",
      "- 30 annotations per minimum\n",
      "... there is high agreement for: \n",
      " - 16140 instances\n",
      " - 190 different names (types)\n",
      " - 52 different synsets \n",
      "[('train', 1115), ('bed', 854), ('giraffe', 820), ('woman', 808), ('shirt', 789), ('horse', 784), ('cat', 708), ('man', 679), ('bench', 650), ('dog', 633)]\n",
      "[('rose', 1), ('carriage', 1), ('meat', 1), ('tomato', 1), ('bar', 1), ('keyboard', 1), ('church', 1), ('hand', 1), ('wall', 1), ('backpack', 1)]\n"
     ]
    }
   ],
   "source": [
    "get_n_names(resdf,0.6,30)"
   ]
  },
  {
   "cell_type": "code",
   "execution_count": null,
   "metadata": {},
   "outputs": [],
   "source": []
  },
  {
   "cell_type": "code",
   "execution_count": null,
   "metadata": {},
   "outputs": [],
   "source": []
  },
  {
   "cell_type": "code",
   "execution_count": null,
   "metadata": {},
   "outputs": [],
   "source": []
  },
  {
   "cell_type": "code",
   "execution_count": null,
   "metadata": {},
   "outputs": [],
   "source": []
  },
  {
   "cell_type": "code",
   "execution_count": null,
   "metadata": {},
   "outputs": [],
   "source": []
  },
  {
   "cell_type": "code",
   "execution_count": null,
   "metadata": {},
   "outputs": [],
   "source": []
  },
  {
   "cell_type": "code",
   "execution_count": 29,
   "metadata": {},
   "outputs": [
    {
     "data": {
      "text/plain": [
       "0        Counter({'man': 11, 'batter': 8, 'player': 5, ...\n",
       "1        Counter({'jacket': 14, 'man': 11, 'sweatshirt'...\n",
       "2                     Counter({'giraffe': 32, 'woman': 1})\n",
       "3                                 Counter({'giraffe': 36})\n",
       "4        Counter({'sandwich': 25, 'food': 6, 'hotdog': ...\n",
       "5        Counter({'van': 15, 'car': 10, 'automobile': 3...\n",
       "6        Counter({'car': 33, 'automobile': 1, 'vehicle'...\n",
       "7        Counter({'desk': 29, 'keyboard': 3, 'curtain':...\n",
       "8                       Counter({'zebra': 33, 'horse': 1})\n",
       "9        Counter({'child': 14, 'boy': 11, 'kid': 3, 'pe...\n",
       "10       Counter({'woman': 26, 'girl': 2, 'mom': 1, 'sw...\n",
       "11       Counter({'jacket': 22, 'coat': 9, 'clothing': ...\n",
       "12                Counter({'cat': 33, 'cow': 1, 'dog': 1})\n",
       "13       Counter({'truck': 24, 'garbage truck': 5, 'tra...\n",
       "14       Counter({'pizza': 31, 'pizza toppings': 1, 'sa...\n",
       "15                     Counter({'bed': 33, 'mattress': 1})\n",
       "16                                 Counter({'bridge': 35})\n",
       "17                      Counter({'horse': 35, 'house': 1})\n",
       "18       Counter({'truck': 27, 'car': 6, 'vehicle': 1, ...\n",
       "19       Counter({'curtain': 23, 'window': 8, 'blind': ...\n",
       "20       Counter({'man': 28, 'person': 3, 'guy': 1, 'ma...\n",
       "21                                  Counter({'shirt': 35})\n",
       "22       Counter({'salad': 17, 'food': 10, 'vegetables'...\n",
       "23                          Counter({'cat': 35, 'car': 1})\n",
       "24       Counter({'dugout': 9, 'railing': 3, 'dirt': 3,...\n",
       "25       Counter({'motorcycle': 25, 'bike': 6, 'motorbi...\n",
       "26                                  Counter({'bench': 36})\n",
       "27       Counter({'bird': 31, 'crow': 1, 'birds': 1, 'o...\n",
       "28       Counter({'bathtub': 12, 'tub': 10, 'bath tub':...\n",
       "29       Counter({'train': 34, 'sub train': 1, 'vehicle...\n",
       "                               ...                        \n",
       "25285    Counter({'woman': 15, 'girl': 9, 'person': 3, ...\n",
       "25286    Counter({'woman': 21, 'person': 4, 'bag': 3, '...\n",
       "25287    Counter({'giraffe': 29, 'zebra': 2, 'girafe': ...\n",
       "25288    Counter({'rug': 19, 'floor': 7, 'shoe': 3, 'ca...\n",
       "25289    Counter({'train': 19, 'bridge': 11, 'tracks': ...\n",
       "25290    Counter({'bench': 28, 'chair': 5, 't-shirt': 1...\n",
       "25291    Counter({'bed': 23, 'girl': 4, 'pillow': 2, 'b...\n",
       "25292                    Counter({'cow': 29, 'cattle': 1})\n",
       "25293    Counter({'player': 5, 'pants': 5, 'shoe': 4, '...\n",
       "25294    Counter({'truck': 28, 'car': 5, 'tyre': 1, 'pi...\n",
       "25295    Counter({'man': 20, 'person': 4, 't-shirt': 2,...\n",
       "25296    Counter({'airplane': 15, 'plane': 14, 'aeropla...\n",
       "25297    Counter({'man': 16, 'tennis player': 7, 'playe...\n",
       "25298    Counter({'skateboarder': 13, 'skater': 10, 'ma...\n",
       "25299                     Counter({'car': 35, 'wheel': 1})\n",
       "25300       Counter({'bird': 31, 'sparrow': 2, 'kiwi': 1})\n",
       "25301          Counter({'dog': 30, 'sand': 2, 'beach': 1})\n",
       "25302    Counter({'truck': 19, 'car': 10, 'suv': 2, 'wh...\n",
       "25303                 Counter({'zebra': 33, 'giraffe': 1})\n",
       "25304    Counter({'table': 26, 'snacks': 1, 'plate': 1,...\n",
       "25305    Counter({'girl': 18, 'child': 11, 'kid': 5, 't...\n",
       "25306    Counter({'desk': 16, 'table': 5, 'laptop': 3, ...\n",
       "25307    Counter({'airplane': 19, 'plane': 11, 'jet': 3...\n",
       "25308    Counter({'child': 15, 'girl': 6, 'kid': 4, 'bo...\n",
       "25309                    Counter({'zebra': 32, 'tree': 3})\n",
       "25310    Counter({'skateboarder': 12, 'man': 8, 'person...\n",
       "25311    Counter({'counter': 22, 'cabinet': 4, 'counter...\n",
       "25312                                 Counter({'cat': 35})\n",
       "25313    Counter({'building': 21, 'castle': 5, 'palace'...\n",
       "25314       Counter({'sheep': 33, 'animal': 1, 'lamb': 1})\n",
       "Name: all_responses, Length: 25315, dtype: object"
      ]
     },
     "execution_count": 29,
     "metadata": {},
     "output_type": "execute_result"
    }
   ],
   "source": [
    "resdf['all_responses']"
   ]
  },
  {
   "cell_type": "code",
   "execution_count": null,
   "metadata": {},
   "outputs": [],
   "source": []
  },
  {
   "cell_type": "code",
   "execution_count": null,
   "metadata": {},
   "outputs": [],
   "source": []
  },
  {
   "cell_type": "code",
   "execution_count": null,
   "metadata": {},
   "outputs": [],
   "source": []
  },
  {
   "cell_type": "code",
   "execution_count": null,
   "metadata": {},
   "outputs": [],
   "source": []
  },
  {
   "cell_type": "code",
   "execution_count": null,
   "metadata": {},
   "outputs": [],
   "source": []
  },
  {
   "cell_type": "code",
   "execution_count": null,
   "metadata": {},
   "outputs": [],
   "source": []
  },
  {
   "cell_type": "code",
   "execution_count": null,
   "metadata": {},
   "outputs": [],
   "source": []
  },
  {
   "cell_type": "code",
   "execution_count": 14,
   "metadata": {},
   "outputs": [
    {
     "data": {
      "text/plain": [
       "0.9166666666666666"
      ]
     },
     "execution_count": 14,
     "metadata": {},
     "output_type": "execute_result"
    }
   ],
   "source": [
    "33/36"
   ]
  },
  {
   "cell_type": "code",
   "execution_count": null,
   "metadata": {},
   "outputs": [],
   "source": []
  },
  {
   "cell_type": "code",
   "execution_count": null,
   "metadata": {},
   "outputs": [],
   "source": []
  },
  {
   "cell_type": "code",
   "execution_count": null,
   "metadata": {},
   "outputs": [],
   "source": []
  },
  {
   "cell_type": "code",
   "execution_count": null,
   "metadata": {},
   "outputs": [],
   "source": []
  },
  {
   "cell_type": "code",
   "execution_count": null,
   "metadata": {},
   "outputs": [],
   "source": []
  },
  {
   "cell_type": "code",
   "execution_count": null,
   "metadata": {},
   "outputs": [],
   "source": []
  },
  {
   "cell_type": "code",
   "execution_count": null,
   "metadata": {},
   "outputs": [],
   "source": []
  }
 ],
 "metadata": {
  "kernelspec": {
   "display_name": "Python 3",
   "language": "python",
   "name": "python3"
  },
  "language_info": {
   "codemirror_mode": {
    "name": "ipython",
    "version": 3
   },
   "file_extension": ".py",
   "mimetype": "text/x-python",
   "name": "python",
   "nbconvert_exporter": "python",
   "pygments_lexer": "ipython3",
   "version": "3.7.3"
  }
 },
 "nbformat": 4,
 "nbformat_minor": 2
}
